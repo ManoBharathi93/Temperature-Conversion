{
  "nbformat": 4,
  "nbformat_minor": 0,
  "metadata": {
    "colab": {
      "provenance": []
    },
    "kernelspec": {
      "name": "python3",
      "display_name": "Python 3"
    },
    "language_info": {
      "name": "python"
    }
  },
  "cells": [
    {
      "cell_type": "markdown",
      "source": [
        "## Importing the libraries"
      ],
      "metadata": {
        "id": "WxtjAQBnts-n"
      }
    },
    {
      "cell_type": "code",
      "execution_count": 13,
      "metadata": {
        "id": "JhfaI4rR4gxi"
      },
      "outputs": [],
      "source": [
        "import tensorflow as tf       ## create network layers\n",
        "import numpy as np            ## computations\n",
        "import matplotlib.pyplot as plt ## To visulaize \n"
      ]
    },
    {
      "cell_type": "markdown",
      "source": [
        "## Defining the Input and Output or You can use **dataset**\n"
      ],
      "metadata": {
        "id": "xhN9aZQttdKK"
      }
    },
    {
      "cell_type": "code",
      "source": [
        "celsius_q    = np.array([-40, -10,  0,  8, 15, 22,  38],  dtype=float) ## feature or input variables\n",
        "fahrenheit_a = np.array([-40,  14, 32, 46, 59, 72, 100],  dtype=float) ## Output or target variables\n",
        "\n",
        "for i,c in enumerate(celsius_q):\n",
        "  print(\"{} degrees Celsius = {} degrees Fahrenheit\".format(c, fahrenheit_a[i]))"
      ],
      "metadata": {
        "colab": {
          "base_uri": "https://localhost:8080/"
        },
        "id": "JcW17JhmtJYN",
        "outputId": "ab7e88ba-6c04-43ea-86f2-0e183b19a99d"
      },
      "execution_count": 14,
      "outputs": [
        {
          "output_type": "stream",
          "name": "stdout",
          "text": [
            "-40.0 degrees Celsius = -40.0 degrees Fahrenheit\n",
            "-10.0 degrees Celsius = 14.0 degrees Fahrenheit\n",
            "0.0 degrees Celsius = 32.0 degrees Fahrenheit\n",
            "8.0 degrees Celsius = 46.0 degrees Fahrenheit\n",
            "15.0 degrees Celsius = 59.0 degrees Fahrenheit\n",
            "22.0 degrees Celsius = 72.0 degrees Fahrenheit\n",
            "38.0 degrees Celsius = 100.0 degrees Fahrenheit\n"
          ]
        }
      ]
    },
    {
      "cell_type": "markdown",
      "source": [
        "## Create the model and Train it"
      ],
      "metadata": {
        "id": "D8h_YFi-t7DW"
      }
    },
    {
      "cell_type": "code",
      "source": [
        "layer1 = tf.keras.layers.Dense(units=1,input_shape=[1]) ## unit - number of neurons in the layer. input - specifies single value to this layer.\n",
        "model = tf.keras.Sequential([layer1]) ## assemble the layers into model\n",
        "model.compile(loss='mean_squared_error',optimizer=tf.keras.optimizers.Adam(0.1)) ## compile the model with loss and optimizer so tf can use it in training\n",
        "history = model.fit(celsius_q, fahrenheit_a,epochs=1000,verbose = True) \n",
        "print(\"Training is finished\")"
      ],
      "metadata": {
        "id": "AIzCjSrntYVl"
      },
      "execution_count": null,
      "outputs": []
    },
    {
      "cell_type": "markdown",
      "source": [
        "## Display training statistics"
      ],
      "metadata": {
        "id": "bI2cUfFjuWoz"
      }
    },
    {
      "cell_type": "code",
      "source": [
        "plt.xlabel('Epoch Number')\n",
        "plt.ylabel(\"Loss Magnitude\")\n",
        "plt.plot(history.history['loss'])"
      ],
      "metadata": {
        "colab": {
          "base_uri": "https://localhost:8080/",
          "height": 296
        },
        "id": "epQ8arizuk41",
        "outputId": "72a6d2a3-04ec-4380-81cd-85b3f124804c"
      },
      "execution_count": 16,
      "outputs": [
        {
          "output_type": "execute_result",
          "data": {
            "text/plain": [
              "[<matplotlib.lines.Line2D at 0x7f65786ea070>]"
            ]
          },
          "metadata": {},
          "execution_count": 16
        },
        {
          "output_type": "display_data",
          "data": {
            "text/plain": [
              "<Figure size 432x288 with 1 Axes>"
            ],
            "image/png": "[encoded data removed]"
          },
          "metadata": {
            "needs_background": "light"
          }
        }
      ]
    },
    {
      "cell_type": "markdown",
      "source": [
        "## Use the model to predict values\n"
      ],
      "metadata": {
        "id": "C35IwlNQuq3C"
      }
    },
    {
      "cell_type": "code",
      "source": [
        "print(model.predict([.0]))"
      ],
      "metadata": {
        "colab": {
          "base_uri": "https://localhost:8080/"
        },
        "id": "BslaxWF1uwwt",
        "outputId": "e0942f75-8d3d-4dc4-e1be-38d74fbd4844"
      },
      "execution_count": 18,
      "outputs": [
        {
          "output_type": "stream",
          "name": "stdout",
          "text": [
            "1/1 [==============================] - 0s 42ms/step\n",
            "[[211.28534]]\n"
          ]
        }
      ]
    },
    {
      "cell_type": "markdown",
      "source": [
        "## Layers weight"
      ],
      "metadata": {
        "id": "6QUeHaf6vcyE"
      }
    },
    {
      "cell_type": "code",
      "source": [
        "print(\"These are the layer variables: {}\".format(layer1.get_weights()))"
      ],
      "metadata": {
        "colab": {
          "base_uri": "https://localhost:8080/"
        },
        "id": "4LW4v9CvvfDQ",
        "outputId": "56ef9b30-3cab-452a-acb2-82bdb498c357"
      },
      "execution_count": 20,
      "outputs": [
        {
          "output_type": "stream",
          "name": "stdout",
          "text": [
            "These are the layer variables: [array([[1.8277164]], dtype=float32), array([28.513695], dtype=float32)]\n"
          ]
        }
      ]
    }
  ]
}